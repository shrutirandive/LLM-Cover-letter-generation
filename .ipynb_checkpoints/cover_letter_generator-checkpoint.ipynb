{
 "cells": [
  {
   "cell_type": "code",
   "execution_count": 6,
   "id": "220d3e26-f62c-4f6c-88c0-8fdfd80490c8",
   "metadata": {},
   "outputs": [],
   "source": [
    "from langchain_groq import ChatGroq\n",
    "\n",
    "llm = ChatGroq(\n",
    "    model=\"llama-3.1-70b-versatile\",\n",
    "    temperature=0,\n",
    "    groq_api_key='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'\n",
    ")"
   ]
  },
  {
   "cell_type": "code",
   "execution_count": 7,
   "id": "8eac9fee-7b97-4bf0-91a4-0b0c91e34e55",
   "metadata": {},
   "outputs": [
    {
     "name": "stdout",
     "output_type": "stream",
     "text": [
      "The United States of America (USA) was not invented by a single person. Instead, it was formed through a series of events, agreements, and the contributions of many individuals. Here's a brief overview:\n",
      "\n",
      "**Indigenous Peoples**: The first inhabitants of the land that is now the United States were Native American tribes, who had been living there for thousands of years.\n",
      "\n",
      "**European Exploration**: In the late 15th century, European explorers, such as Christopher Columbus (Italy) and Vasco Nunez de Balboa (Spain), began to visit and map the eastern coast of North America.\n",
      "\n",
      "**British Colonization**: In the early 17th century, the British established the first successful colonies in what is now the United States, including Jamestown (Virginia) in 1607 and Plymouth Colony (Massachusetts) in 1620.\n",
      "\n",
      "**Founding Fathers**: A group of visionary individuals, known as the Founding Fathers, played a crucial role in shaping the United States. Some of the most notable Founding Fathers include:\n",
      "\n",
      "1. **George Washington** (1732-1799): Commander-in-Chief of the Continental Army during the American Revolutionary War and the first President of the United States.\n",
      "2. **Thomas Jefferson** (1743-1826): Principal author of the Declaration of Independence and the third President of the United States.\n",
      "3. **John Adams** (1735-1826): A signer of the Declaration of Independence, a leader in the Continental Congress, and the second President of the United States.\n",
      "4. **Benjamin Franklin** (1706-1790): A statesman, scientist, and diplomat who helped draft the Declaration of Independence and the United States Constitution.\n",
      "5. **James Madison** (1751-1836): Often referred to as the \"Father of the Constitution,\" Madison was a key drafter of the United States Constitution and the fourth President of the United States.\n",
      "\n",
      "**The Constitution**: In 1787, a Constitutional Convention was held in Philadelphia, where the United States Constitution was drafted and signed by 39 individuals, including many of the Founding Fathers.\n",
      "\n",
      "**The Birth of the United States**: On July 4, 1776, the Continental Congress adopted the Declaration of Independence, which declared the 13 American colonies' independence from Great Britain and established the United States of America as a sovereign nation.\n",
      "\n",
      "In summary, while there is no single \"inventor\" of the United States, the contributions of many individuals, including the Founding Fathers, European explorers, and Native American tribes, have shaped the country's history and development.\n"
     ]
    }
   ],
   "source": [
    "response = llm.invoke(\"who invented usa\")\n",
    "print(response.content)"
   ]
  },
  {
   "cell_type": "code",
   "execution_count": 8,
   "id": "a3c918e7-bb80-4d1c-8bb9-e9b21a26c39f",
   "metadata": {},
   "outputs": [
    {
     "ename": "ModuleNotFoundError",
     "evalue": "No module named 'langchain_community'",
     "output_type": "error",
     "traceback": [
      "\u001b[1;31m---------------------------------------------------------------------------\u001b[0m",
      "\u001b[1;31mModuleNotFoundError\u001b[0m                       Traceback (most recent call last)",
      "Cell \u001b[1;32mIn[8], line 3\u001b[0m\n\u001b[0;32m      1\u001b[0m \u001b[38;5;66;03m# WebBaseLoader to load all text from HTML webpages into a document format that we can use downstream\u001b[39;00m\n\u001b[1;32m----> 3\u001b[0m \u001b[38;5;28;01mfrom\u001b[39;00m \u001b[38;5;21;01mlangchain_community\u001b[39;00m\u001b[38;5;21;01m.\u001b[39;00m\u001b[38;5;21;01mdocument_loaders\u001b[39;00m \u001b[38;5;28;01mimport\u001b[39;00m WebBaseLoader\n\u001b[0;32m      5\u001b[0m loader \u001b[38;5;241m=\u001b[39m WebBaseLoader(\u001b[38;5;124m\"\u001b[39m\u001b[38;5;124mhttps://job-boards.greenhouse.io/messari/jobs/4461861005\u001b[39m\u001b[38;5;124m\"\u001b[39m)\n\u001b[0;32m      7\u001b[0m page_data \u001b[38;5;241m=\u001b[39m loader\u001b[38;5;241m.\u001b[39mload()\u001b[38;5;241m.\u001b[39mpop()\u001b[38;5;241m.\u001b[39mpage_content\n",
      "\u001b[1;31mModuleNotFoundError\u001b[0m: No module named 'langchain_community'"
     ]
    }
   ],
   "source": [
    "# WebBaseLoader to load all text from HTML webpages into a document format that we can use downstream\n",
    "\n",
    "from langchain_community.document_loaders import WebBaseLoader\n",
    "\n",
    "loader = WebBaseLoader(\"https://job-boards.greenhouse.io/messari/jobs/4461861005\")\n",
    "\n",
    "page_data = loader.load().pop().page_content\n",
    "print(page_data)\n"
   ]
  },
  {
   "cell_type": "code",
   "execution_count": 9,
   "id": "4e0076ab-53ee-4599-8216-9c51c0001e63",
   "metadata": {},
   "outputs": [
    {
     "name": "stdout",
     "output_type": "stream",
     "text": [
      "Note: you may need to restart the kernel to use updated packages.\n"
     ]
    },
    {
     "name": "stderr",
     "output_type": "stream",
     "text": [
      "ERROR: Could not install packages due to an OSError: [WinError 5] Access is denied: 'C:\\\\Users\\\\shrut\\\\AppData\\\\Local\\\\Programs\\\\Python\\\\Python311\\\\Lib\\\\site-packages\\\\~ydantic_core\\\\_pydantic_core.cp311-win_amd64.pyd'\n",
      "Consider using the `--user` option or check the permissions.\n",
      "\n",
      "\n",
      "[notice] A new release of pip is available: 23.2.1 -> 24.2\n",
      "[notice] To update, run: C:\\Users\\shrut\\AppData\\Local\\Programs\\Python\\Python311\\python.exe -m pip install --upgrade pip\n"
     ]
    }
   ],
   "source": [
    "%pip install -qU langchain_community beautifulsoup4\n",
    "\n"
   ]
  },
  {
   "cell_type": "code",
   "execution_count": null,
   "id": "829ad9ef-4fca-4407-8f18-3915dc4e3b6f",
   "metadata": {},
   "outputs": [],
   "source": []
  }
 ],
 "metadata": {
  "kernelspec": {
   "display_name": "Python 3 (ipykernel)",
   "language": "python",
   "name": "python3"
  },
  "language_info": {
   "codemirror_mode": {
    "name": "ipython",
    "version": 3
   },
   "file_extension": ".py",
   "mimetype": "text/x-python",
   "name": "python",
   "nbconvert_exporter": "python",
   "pygments_lexer": "ipython3",
   "version": "3.11.6"
  }
 },
 "nbformat": 4,
 "nbformat_minor": 5
}
