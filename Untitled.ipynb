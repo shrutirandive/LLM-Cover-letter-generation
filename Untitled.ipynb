{
 "cells": [
  {
   "cell_type": "code",
   "execution_count": 1,
   "id": "50e71c63-94a4-4692-a287-cc55a6fa64d9",
   "metadata": {},
   "outputs": [
    {
     "name": "stdout",
     "output_type": "stream",
     "text": [
      "Collecting PyPDF2\n",
      "  Obtaining dependency information for PyPDF2 from https://files.pythonhosted.org/packages/8e/5e/c86a5643653825d3c913719e788e41386bee415c2b87b4f955432f2de6b2/pypdf2-3.0.1-py3-none-any.whl.metadata\n",
      "  Downloading pypdf2-3.0.1-py3-none-any.whl.metadata (6.8 kB)\n",
      "Downloading pypdf2-3.0.1-py3-none-any.whl (232 kB)\n",
      "   ---------------------------------------- 0.0/232.6 kB ? eta -:--:--\n",
      "   ---------------------------------------- 0.0/232.6 kB ? eta -:--:--\n",
      "   ----- --------------------------------- 30.7/232.6 kB 660.6 kB/s eta 0:00:01\n",
      "   ------------- ------------------------- 81.9/232.6 kB 919.0 kB/s eta 0:00:01\n",
      "   ---------------------------------------- 232.6/232.6 kB 2.0 MB/s eta 0:00:00\n",
      "Installing collected packages: PyPDF2\n",
      "Successfully installed PyPDF2-3.0.1\n",
      "Note: you may need to restart the kernel to use updated packages.\n"
     ]
    },
    {
     "name": "stderr",
     "output_type": "stream",
     "text": [
      "\n",
      "[notice] A new release of pip is available: 23.2.1 -> 24.2\n",
      "[notice] To update, run: C:\\Users\\shrut\\AppData\\Local\\Programs\\Python\\Python311\\python.exe -m pip install --upgrade pip\n"
     ]
    }
   ],
   "source": [
    "pip install PyPDF2"
   ]
  },
  {
   "cell_type": "code",
   "execution_count": 3,
   "id": "3b07244b-d2c1-4b1e-a82f-87d0cbedc93a",
   "metadata": {},
   "outputs": [],
   "source": [
    "from PyPDF2 import PdfReader\n",
    "import streamlit as st"
   ]
  },
  {
   "cell_type": "code",
   "execution_count": 4,
   "id": "56bcf24d-7349-4844-8fbf-5cc17fbfa2e8",
   "metadata": {},
   "outputs": [
    {
     "name": "stdout",
     "output_type": "stream",
     "text": [
      "Note: you may need to restart the kernel to use updated packages.Collecting pdfplumber\n",
      "  Obtaining dependency information for pdfplumber from https://files.pythonhosted.org/packages/d0/87/415cb472981a8d2e36beeeadf074ebb686cc2bfe8d18de973232da291bd5/pdfplumber-0.11.4-py3-none-any.whl.metadata\n",
      "  Downloading pdfplumber-0.11.4-py3-none-any.whl.metadata (41 kB)\n",
      "     ---------------------------------------- 0.0/42.0 kB ? eta -:--:--\n",
      "     ---------------------------------------- 0.0/42.0 kB ? eta -:--:--\n",
      "     --------------------------- ---------- 30.7/42.0 kB 660.6 kB/s eta 0:00:01\n",
      "     -------------------------------------- 42.0/42.0 kB 407.1 kB/s eta 0:00:00\n",
      "Collecting pdfminer.six==20231228 (from pdfplumber)\n",
      "  Obtaining dependency information for pdfminer.six==20231228 from https://files.pythonhosted.org/packages/eb/9c/e46fe7502b32d7db6af6e36a9105abb93301fa1ec475b5ddcba8b35ae23a/pdfminer.six-20231228-py3-none-any.whl.metadata\n",
      "  Downloading pdfminer.six-20231228-py3-none-any.whl.metadata (4.2 kB)\n",
      "Requirement already satisfied: Pillow>=9.1 in c:\\users\\shrut\\appdata\\local\\programs\\python\\python311\\lib\\site-packages (from pdfplumber) (9.3.0)\n",
      "Collecting pypdfium2>=4.18.0 (from pdfplumber)\n",
      "  Obtaining dependency information for pypdfium2>=4.18.0 from https://files.pythonhosted.org/packages/25/bd/56d9ec6b9f0fc4e0d95288759f3179f0fcd34b1a1526b75673d2f6d5196f/pypdfium2-4.30.0-py3-none-win_amd64.whl.metadata\n",
      "  Downloading pypdfium2-4.30.0-py3-none-win_amd64.whl.metadata (48 kB)\n",
      "     ---------------------------------------- 0.0/48.5 kB ? eta -:--:--\n",
      "     -------------------------------- ----- 41.0/48.5 kB 991.0 kB/s eta 0:00:01\n",
      "     ---------------------------------------- 48.5/48.5 kB 1.2 MB/s eta 0:00:00\n",
      "Requirement already satisfied: charset-normalizer>=2.0.0 in c:\\users\\shrut\\appdata\\local\\programs\\python\\python311\\lib\\site-packages (from pdfminer.six==20231228->pdfplumber) (3.3.0)\n",
      "Requirement already satisfied: cryptography>=36.0.0 in c:\\users\\shrut\\appdata\\local\\programs\\python\\python311\\lib\\site-packages (from pdfminer.six==20231228->pdfplumber) (41.0.4)\n",
      "Requirement already satisfied: cffi>=1.12 in c:\\users\\shrut\\appdata\\local\\programs\\python\\python311\\lib\\site-packages (from cryptography>=36.0.0->pdfminer.six==20231228->pdfplumber) (1.16.0)\n",
      "Requirement already satisfied: pycparser in c:\\users\\shrut\\appdata\\local\\programs\\python\\python311\\lib\\site-packages (from cffi>=1.12->cryptography>=36.0.0->pdfminer.six==20231228->pdfplumber) (2.21)\n",
      "Downloading pdfplumber-0.11.4-py3-none-any.whl (59 kB)\n",
      "   ---------------------------------------- 0.0/59.2 kB ? eta -:--:--\n",
      "   ---------------------------------------- 59.2/59.2 kB 1.6 MB/s eta 0:00:00\n",
      "Downloading pdfminer.six-20231228-py3-none-any.whl (5.6 MB)\n",
      "   ---------------------------------------- 0.0/5.6 MB ? eta -:--:--\n",
      "   -- ------------------------------------- 0.3/5.6 MB 6.3 MB/s eta 0:00:01\n",
      "   ----- ---------------------------------- 0.7/5.6 MB 7.7 MB/s eta 0:00:01\n",
      "   -------- ------------------------------- 1.2/5.6 MB 8.3 MB/s eta 0:00:01\n",
      "   ------------ --------------------------- 1.7/5.6 MB 9.1 MB/s eta 0:00:01\n",
      "   --------------- ------------------------ 2.2/5.6 MB 9.2 MB/s eta 0:00:01\n",
      "   ------------------- -------------------- 2.7/5.6 MB 9.7 MB/s eta 0:00:01\n",
      "   ---------------------- ----------------- 3.2/5.6 MB 9.7 MB/s eta 0:00:01\n",
      "   -------------------------- ------------- 3.7/5.6 MB 9.8 MB/s eta 0:00:01\n",
      "   ----------------------------- ---------- 4.1/5.6 MB 9.7 MB/s eta 0:00:01\n",
      "   -------------------------------- ------- 4.6/5.6 MB 10.1 MB/s eta 0:00:01\n",
      "   ----------------------------------- ---- 4.9/5.6 MB 9.8 MB/s eta 0:00:01\n",
      "   ------------------------------------- -- 5.3/5.6 MB 9.6 MB/s eta 0:00:01\n",
      "   ---------------------------------------  5.6/5.6 MB 9.4 MB/s eta 0:00:01\n",
      "   ---------------------------------------  5.6/5.6 MB 9.0 MB/s eta 0:00:01\n",
      "   ---------------------------------------- 5.6/5.6 MB 8.3 MB/s eta 0:00:00\n",
      "Downloading pypdfium2-4.30.0-py3-none-win_amd64.whl (2.9 MB)\n",
      "   ---------------------------------------- 0.0/2.9 MB ? eta -:--:--\n",
      "   ---- ----------------------------------- 0.4/2.9 MB 10.9 MB/s eta 0:00:01\n",
      "   ----------- ---------------------------- 0.9/2.9 MB 10.9 MB/s eta 0:00:01\n",
      "   ------------------ --------------------- 1.3/2.9 MB 10.6 MB/s eta 0:00:01\n",
      "   -------------------------- ------------- 1.9/2.9 MB 11.1 MB/s eta 0:00:01\n",
      "   -------------------------------- ------- 2.3/2.9 MB 10.7 MB/s eta 0:00:01\n",
      "   ---------------------------------------  2.9/2.9 MB 10.8 MB/s eta 0:00:01\n",
      "   ---------------------------------------- 2.9/2.9 MB 10.8 MB/s eta 0:00:00\n",
      "Installing collected packages: pypdfium2, pdfminer.six, pdfplumber\n",
      "Successfully installed pdfminer.six-20231228 pdfplumber-0.11.4 pypdfium2-4.30.0\n",
      "\n"
     ]
    },
    {
     "name": "stderr",
     "output_type": "stream",
     "text": [
      "\n",
      "[notice] A new release of pip is available: 23.2.1 -> 24.2\n",
      "[notice] To update, run: C:\\Users\\shrut\\AppData\\Local\\Programs\\Python\\Python311\\python.exe -m pip install --upgrade pip\n"
     ]
    }
   ],
   "source": [
    "pip install pdfplumber"
   ]
  },
  {
   "cell_type": "code",
   "execution_count": null,
   "id": "0a145817-1737-4c47-a15d-d459fbbefd12",
   "metadata": {},
   "outputs": [],
   "source": []
  }
 ],
 "metadata": {
  "kernelspec": {
   "display_name": "Python 3 (ipykernel)",
   "language": "python",
   "name": "python3"
  },
  "language_info": {
   "codemirror_mode": {
    "name": "ipython",
    "version": 3
   },
   "file_extension": ".py",
   "mimetype": "text/x-python",
   "name": "python",
   "nbconvert_exporter": "python",
   "pygments_lexer": "ipython3",
   "version": "3.11.6"
  }
 },
 "nbformat": 4,
 "nbformat_minor": 5
}
